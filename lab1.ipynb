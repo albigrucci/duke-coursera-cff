{
 "cells": [
  {
   "cell_type": "code",
   "execution_count": null,
   "id": "9b4a422c",
   "metadata": {},
   "outputs": [],
   "source": [
    "print(\"Hello World!\")"
   ]
  },
  {
   "cell_type": "markdown",
   "id": "94257ab4",
   "metadata": {},
   "source": [
    "# Duke Coursera Project Markdown\n",
    "\n",
    "First Lab - Initializing GitHub repository and Google Colabs"
   ]
  }
 ],
 "metadata": {
  "kernelspec": {
   "display_name": "Python 3 (ipykernel)",
   "language": "python",
   "name": "python3"
  },
  "language_info": {
   "codemirror_mode": {
    "name": "ipython",
    "version": 3
   },
   "file_extension": ".py",
   "mimetype": "text/x-python",
   "name": "python",
   "nbconvert_exporter": "python",
   "pygments_lexer": "ipython3",
   "version": "3.8.3"
  }
 },
 "nbformat": 4,
 "nbformat_minor": 5
}
