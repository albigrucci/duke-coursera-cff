{
  "nbformat": 4,
  "nbformat_minor": 5,
  "metadata": {
    "kernelspec": {
      "display_name": "Python 3 (ipykernel)",
      "language": "python",
      "name": "python3"
    },
    "language_info": {
      "codemirror_mode": {
        "name": "ipython",
        "version": 3
      },
      "file_extension": ".py",
      "mimetype": "text/x-python",
      "name": "python",
      "nbconvert_exporter": "python",
      "pygments_lexer": "ipython3",
      "version": "3.8.3"
    },
    "colab": {
      "name": "lab1.ipynb",
      "provenance": [],
      "include_colab_link": true
    }
  },
  "cells": [
    {
      "cell_type": "markdown",
      "metadata": {
        "id": "view-in-github",
        "colab_type": "text"
      },
      "source": [
        "<a href=\"https://colab.research.google.com/github/albigrucci/duke-coursera-cff/blob/main/lab1_colab.ipynb\" target=\"_parent\"><img src=\"https://colab.research.google.com/assets/colab-badge.svg\" alt=\"Open In Colab\"/></a>"
      ]
    },
    {
      "cell_type": "code",
      "metadata": {
        "id": "9b4a422c"
      },
      "source": [
        "print(\"Hello World!\")"
      ],
      "id": "9b4a422c",
      "execution_count": null,
      "outputs": []
    },
    {
      "cell_type": "markdown",
      "metadata": {
        "id": "94257ab4"
      },
      "source": [
        "# Duke Coursera Project Markdown\n",
        "\n",
        "First Lab - Initializing GitHub repository and Google Colabs"
      ],
      "id": "94257ab4"
    },
    {
      "cell_type": "markdown",
      "metadata": {
        "id": "s-nmPVN9vn-2"
      },
      "source": [
        "Colab Version"
      ],
      "id": "s-nmPVN9vn-2"
    },
    {
      "cell_type": "code",
      "metadata": {
        "id": "phDs4_V0vqYy"
      },
      "source": [
        ""
      ],
      "id": "phDs4_V0vqYy",
      "execution_count": null,
      "outputs": []
    }
  ]
}